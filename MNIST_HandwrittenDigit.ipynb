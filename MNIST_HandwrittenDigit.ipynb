{
  "nbformat": 4,
  "nbformat_minor": 0,
  "metadata": {
    "colab": {
      "name": "MNIST_HandwrittenDigit.ipynb",
      "provenance": [],
      "collapsed_sections": [],
      "include_colab_link": true
    },
    "kernelspec": {
      "name": "python3",
      "display_name": "Python 3"
    }
  },
  "cells": [
    {
      "cell_type": "markdown",
      "metadata": {
        "id": "view-in-github",
        "colab_type": "text"
      },
      "source": [
        "<a href=\"https://colab.research.google.com/github/faizygithub/Deep-Learning/blob/master/MNIST_HandwrittenDigit.ipynb\" target=\"_parent\"><img src=\"https://colab.research.google.com/assets/colab-badge.svg\" alt=\"Open In Colab\"/></a>"
      ]
    },
    {
      "cell_type": "code",
      "metadata": {
        "id": "LUk2r-Kcf9sj",
        "colab_type": "code",
        "outputId": "448855be-8b8f-4ed2-d6ad-8e9707247639",
        "colab": {
          "base_uri": "https://localhost:8080/",
          "height": 34
        }
      },
      "source": [
        "import tensorflow as tf\n",
        "import numpy as np\n",
        "import matplotlib.pyplot as plt\n",
        "from tensorflow import keras\n",
        "print(tf.__version__)"
      ],
      "execution_count": 0,
      "outputs": [
        {
          "output_type": "stream",
          "text": [
            "1.13.1\n"
          ],
          "name": "stdout"
        }
      ]
    },
    {
      "cell_type": "code",
      "metadata": {
        "id": "b1mWcy2iixS_",
        "colab_type": "code",
        "colab": {}
      },
      "source": [
        "class myCallback(keras.callbacks.Callback):\n",
        "  def on_epoch_ends(self, epoch, logs={}):\n",
        "    if (logs.get('acc')>.99):\n",
        "      print(\"\\nReached 99% accuracy so cancelling training!\")\n",
        "      self.model.stop_training=True\n",
        "                "
      ],
      "execution_count": 0,
      "outputs": []
    },
    {
      "cell_type": "code",
      "metadata": {
        "id": "gpMtU9JPgYd1",
        "colab_type": "code",
        "colab": {}
      },
      "source": [
        "mnist=keras.datasets.mnist"
      ],
      "execution_count": 0,
      "outputs": []
    },
    {
      "cell_type": "code",
      "metadata": {
        "id": "GpmUJ9gJgmVh",
        "colab_type": "code",
        "colab": {}
      },
      "source": [
        "(x_train,y_train),(x_test,y_test)=mnist.load_data()"
      ],
      "execution_count": 0,
      "outputs": []
    },
    {
      "cell_type": "code",
      "metadata": {
        "id": "mNFQGgCehP94",
        "colab_type": "code",
        "colab": {}
      },
      "source": [
        "plt.imshow(x_train[0])\n",
        "plt.colorbar()\n",
        "plt.grid(False)\n",
        "plt.show()\n",
        "print(y_train[0])\n",
        "print(x_train[0])"
      ],
      "execution_count": 0,
      "outputs": []
    },
    {
      "cell_type": "code",
      "metadata": {
        "id": "ZJdSD2QGhurg",
        "colab_type": "code",
        "colab": {}
      },
      "source": [
        "x_train,x_test=x_train/255,x_test/255"
      ],
      "execution_count": 0,
      "outputs": []
    },
    {
      "cell_type": "code",
      "metadata": {
        "id": "ZGnxmG1pkYQX",
        "colab_type": "code",
        "colab": {}
      },
      "source": [
        "callbacks=myCallback()"
      ],
      "execution_count": 0,
      "outputs": []
    },
    {
      "cell_type": "code",
      "metadata": {
        "id": "SCuuV1ZrkcuD",
        "colab_type": "code",
        "outputId": "a17d4c3d-6727-4b8b-8820-3bb8f75f2d57",
        "colab": {
          "base_uri": "https://localhost:8080/",
          "height": 85
        }
      },
      "source": [
        "print(x_train.shape)\n",
        "print(x_test.shape)\n",
        "print(y_train)\n",
        "y_train.shape"
      ],
      "execution_count": 0,
      "outputs": [
        {
          "output_type": "stream",
          "text": [
            "(60000, 28, 28)\n",
            "(10000, 28, 28)\n",
            "[5 0 4 ... 5 6 8]\n"
          ],
          "name": "stdout"
        },
        {
          "output_type": "execute_result",
          "data": {
            "text/plain": [
              "(60000,)"
            ]
          },
          "metadata": {
            "tags": []
          },
          "execution_count": 20
        }
      ]
    },
    {
      "cell_type": "code",
      "metadata": {
        "id": "OOdWthfylICh",
        "colab_type": "code",
        "outputId": "13fba7be-d8dc-49a6-9169-aabb7f022b71",
        "colab": {
          "base_uri": "https://localhost:8080/",
          "height": 583
        }
      },
      "source": [
        "plt.figure(figsize=(20,20))\n",
        "for  i in range(25):\n",
        "  plt.subplot(10,5,i+1)\n",
        "  plt.xticks([])\n",
        "  plt.yticks([])\n",
        "  plt.grid(False)\n",
        "  plt.imshow(x_train[i],cmap=plt.cm.binary)\n",
        "  plt.xlabel(y_train[i])\n",
        "plt.show()  "
      ],
      "execution_count": 0,
      "outputs": [
        {
          "output_type": "display_data",
          "data": {
            "image/png": "[encoded data removed]",
            "text/plain": [
              "<Figure size 1440x1440 with 25 Axes>"
            ]
          },
          "metadata": {
            "tags": []
          }
        }
      ]
    },
    {
      "cell_type": "code",
      "metadata": {
        "id": "FIhFZWxSmROS",
        "colab_type": "code",
        "colab": {}
      },
      "source": [
        "model=keras.models.Sequential([keras.layers.Flatten(),\n",
        "                             keras.layers.Dense(1024,activation=tf.nn.relu),\n",
        "                             keras.layers.Dense(10,activation=tf.nn.softmax)])\n"
      ],
      "execution_count": 0,
      "outputs": []
    },
    {
      "cell_type": "code",
      "metadata": {
        "id": "pOM1oGsMnEwX",
        "colab_type": "code",
        "colab": {}
      },
      "source": [
        "model.compile(optimizer=tf.train.AdamOptimizer(),loss='sparse_categorical_crossentropy',metrics=['accuracy'])"
      ],
      "execution_count": 0,
      "outputs": []
    },
    {
      "cell_type": "code",
      "metadata": {
        "id": "h1tcwAqqnir0",
        "colab_type": "code",
        "outputId": "594f2a39-deeb-43b3-e9b5-33c060664f09",
        "colab": {
          "base_uri": "https://localhost:8080/",
          "height": 374
        }
      },
      "source": [
        "model.fit(x_train,y_train,epochs=10,callbacks=[callbacks])"
      ],
      "execution_count": 0,
      "outputs": [
        {
          "output_type": "stream",
          "text": [
            "Epoch 1/10\n",
            "60000/60000 [==============================] - 16s 265us/sample - loss: 12.7949 - acc: 0.2059\n",
            "Epoch 2/10\n",
            "60000/60000 [==============================] - 15s 253us/sample - loss: 12.8128 - acc: 0.2051\n",
            "Epoch 3/10\n",
            "60000/60000 [==============================] - 16s 262us/sample - loss: 12.8460 - acc: 0.2030\n",
            "Epoch 4/10\n",
            "60000/60000 [==============================] - 15s 252us/sample - loss: 12.7287 - acc: 0.2103\n",
            "Epoch 5/10\n",
            "60000/60000 [==============================] - 15s 254us/sample - loss: 12.7285 - acc: 0.2103\n",
            "Epoch 6/10\n",
            "60000/60000 [==============================] - 15s 250us/sample - loss: 12.7285 - acc: 0.2103\n",
            "Epoch 7/10\n",
            "60000/60000 [==============================] - 17s 278us/sample - loss: 12.7285 - acc: 0.2103\n",
            "Epoch 8/10\n",
            "60000/60000 [==============================] - 16s 260us/sample - loss: 12.7285 - acc: 0.2103\n",
            "Epoch 9/10\n",
            "60000/60000 [==============================] - 15s 257us/sample - loss: 12.7287 - acc: 0.2103\n",
            "Epoch 10/10\n",
            "60000/60000 [==============================] - 15s 256us/sample - loss: 13.7784 - acc: 0.1452\n"
          ],
          "name": "stdout"
        },
        {
          "output_type": "execute_result",
          "data": {
            "text/plain": [
              "<tensorflow.python.keras.callbacks.History at 0x7f16d6d47390>"
            ]
          },
          "metadata": {
            "tags": []
          },
          "execution_count": 52
        }
      ]
    },
    {
      "cell_type": "code",
      "metadata": {
        "id": "fbV-SwKknyl5",
        "colab_type": "code",
        "outputId": "db1a51c4-6475-40bf-9815-cf9b638acf85",
        "colab": {
          "base_uri": "https://localhost:8080/",
          "height": 51
        }
      },
      "source": [
        "model.evaluate(x_test,y_test)"
      ],
      "execution_count": 0,
      "outputs": [
        {
          "output_type": "stream",
          "text": [
            "10000/10000 [==============================] - 1s 114us/sample - loss: 0.1040 - acc: 0.9825\n"
          ],
          "name": "stdout"
        },
        {
          "output_type": "execute_result",
          "data": {
            "text/plain": [
              "[0.10401367284417647, 0.9825]"
            ]
          },
          "metadata": {
            "tags": []
          },
          "execution_count": 29
        }
      ]
    },
    {
      "cell_type": "code",
      "metadata": {
        "id": "cf-KngFGpWMj",
        "colab_type": "code",
        "outputId": "a202426e-d4d4-47df-ef28-68a63c8a2a2d",
        "colab": {
          "base_uri": "https://localhost:8080/",
          "height": 51
        }
      },
      "source": [
        "predictions=model.predict(x_test)\n",
        "print(predictions[0])"
      ],
      "execution_count": 0,
      "outputs": [
        {
          "output_type": "stream",
          "text": [
            "[7.8557688e-24 1.0581679e-20 3.6224108e-23 2.3965980e-15 5.5315073e-31\n",
            " 3.2991125e-22 1.2999546e-30 1.0000000e+00 4.3085327e-24 1.0389459e-18]\n"
          ],
          "name": "stdout"
        }
      ]
    },
    {
      "cell_type": "code",
      "metadata": {
        "id": "8OUJVnbGpppc",
        "colab_type": "code",
        "outputId": "70af97a4-7881-498b-8a7d-4fa2a6311fc7",
        "colab": {
          "base_uri": "https://localhost:8080/",
          "height": 34
        }
      },
      "source": [
        "np.argmax(predictions[0])"
      ],
      "execution_count": 0,
      "outputs": [
        {
          "output_type": "execute_result",
          "data": {
            "text/plain": [
              "7"
            ]
          },
          "metadata": {
            "tags": []
          },
          "execution_count": 33
        }
      ]
    },
    {
      "cell_type": "code",
      "metadata": {
        "id": "5Fx7HUvhp5xO",
        "colab_type": "code",
        "outputId": "7c96e83e-573e-4116-ed59-42f580fc6342",
        "colab": {
          "base_uri": "https://localhost:8080/",
          "height": 34
        }
      },
      "source": [
        "print(y_test[0])"
      ],
      "execution_count": 0,
      "outputs": [
        {
          "output_type": "stream",
          "text": [
            "7\n"
          ],
          "name": "stdout"
        }
      ]
    },
    {
      "cell_type": "code",
      "metadata": {
        "id": "qJlGrAdxqAJ0",
        "colab_type": "code",
        "outputId": "513b565f-9ddb-456e-e489-96b60c3076fe",
        "colab": {
          "base_uri": "https://localhost:8080/",
          "height": 238
        }
      },
      "source": [
        "import tensorflow as tf\n",
        "\n",
        "class myCallback(tf.keras.callbacks.Callback):\n",
        "  def on_epoch_end(self, epoch, logs={}):\n",
        "    if(logs.get('acc')>0.99):\n",
        "      print(\"\\nReached 99% accuracy so cancelling training!\")\n",
        "      self.model.stop_training = True\n",
        "\n",
        "mnist = tf.keras.datasets.mnist\n",
        "\n",
        "(x_train, y_train),(x_test, y_test) = mnist.load_data()\n",
        "x_train, x_test = x_train / 255.0, x_test / 255.0\n",
        "\n",
        "callbacks = myCallback()\n",
        "\n",
        "model = tf.keras.models.Sequential([\n",
        "  tf.keras.layers.Flatten(input_shape=(28, 28)),\n",
        "  tf.keras.layers.Dense(512, activation=tf.nn.relu),\n",
        "  tf.keras.layers.Dense(10, activation=tf.nn.softmax)\n",
        "])\n",
        "model.compile(optimizer='adam',\n",
        "              loss='sparse_categorical_crossentropy',\n",
        "              metrics=['accuracy'])\n",
        "\n",
        "model.fit(x_train, y_train, epochs=10, callbacks=[callbacks])"
      ],
      "execution_count": 0,
      "outputs": [
        {
          "output_type": "stream",
          "text": [
            "Epoch 1/10\n",
            "60000/60000 [==============================] - 17s 286us/sample - loss: 0.1973 - acc: 0.9423\n",
            "Epoch 2/10\n",
            "60000/60000 [==============================] - 18s 292us/sample - loss: 0.0801 - acc: 0.9745\n",
            "Epoch 3/10\n",
            "60000/60000 [==============================] - 18s 294us/sample - loss: 0.0523 - acc: 0.9837\n",
            "Epoch 4/10\n",
            "60000/60000 [==============================] - 17s 290us/sample - loss: 0.0365 - acc: 0.9883\n",
            "Epoch 5/10\n",
            "59936/60000 [============================>.] - ETA: 0s - loss: 0.0262 - acc: 0.9911\n",
            "Reached 99% accuracy so cancelling training!\n",
            "60000/60000 [==============================] - 18s 295us/sample - loss: 0.0262 - acc: 0.9911\n"
          ],
          "name": "stdout"
        },
        {
          "output_type": "execute_result",
          "data": {
            "text/plain": [
              "<tensorflow.python.keras.callbacks.History at 0x7f16dcd03908>"
            ]
          },
          "metadata": {
            "tags": []
          },
          "execution_count": 35
        }
      ]
    },
    {
      "cell_type": "code",
      "metadata": {
        "id": "w1AEJaI0qdMR",
        "colab_type": "code",
        "colab": {}
      },
      "source": [
        ""
      ],
      "execution_count": 0,
      "outputs": []
    }
  ]
}